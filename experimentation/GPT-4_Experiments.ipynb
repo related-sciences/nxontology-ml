{
 "cells": [
  {
   "cell_type": "markdown",
   "id": "89c1a046",
   "metadata": {},
   "source": [
    "# GPT-4 Experiments "
   ]
  },
  {
   "cell_type": "code",
   "execution_count": 1,
   "id": "0a61f822",
   "metadata": {},
   "outputs": [],
   "source": [
    "from pprint import pprint\n",
    "from typing import Dict, List\n",
    "import numpy as np\n",
    "from tqdm import tqdm\n",
    "from dataclasses import dataclass\n",
    "from collections import Counter\n",
    "from dataclasses import asdict\n",
    "import json\n",
    "\n",
    "from nxontology_ml.data import read_training_data, get_efo_otar_slim\n",
    "from nxontology_ml.gpt_tagger import TaskConfig, GptTagger\n",
    "from nxontology_ml.utils import ROOT_DIR\n",
    "from experimentation.model_utils import mean_absolute_error, one_h_enc"
   ]
  },
  {
   "cell_type": "code",
   "execution_count": 2,
   "id": "c5f6f63f",
   "metadata": {},
   "outputs": [],
   "source": [
    "##\n",
    "# Common code across experiments\n",
    "\n",
    "N_SAMPLES = 500\n",
    "\n",
    "CLASS_MAP: Dict[str, int] = {\n",
    "    \"high\": 0,  # \"01-disease-subtype\"\n",
    "    \"medium\": 1,  # \"02-disease-root\"\n",
    "    \"low\": 2,  # \"03-disease-area\"\n",
    "}\n",
    "\n",
    "dists = {\n",
    "    \"01-disease-subtype\": {\"low\": 2, \"medium\": 1, \"high\": 0},\n",
    "    \"02-disease-root\": {\"low\": 1, \"medium\": 0, \"high\": 1},\n",
    "    \"03-disease-area\": {\"low\": 0, \"medium\": 1, \"high\": 2},\n",
    "}\n",
    "\n",
    "\n",
    "@dataclass\n",
    "class NodeDist:\n",
    "    efo_id: str\n",
    "    true_label: str\n",
    "    precisions: List[str]\n",
    "    efo_label: str\n",
    "    efo_definition: str | None\n",
    "    dist: int\n",
    "\n",
    "    def __lt__(self, other):\n",
    "        return self.dist < other.dist\n",
    "\n",
    "\n",
    "# Get a few EFO nodes\n",
    "X, y = read_training_data(take=N_SAMPLES, filter_out_non_disease=True)\n",
    "nxo = get_efo_otar_slim()\n",
    "nodes = [nxo.node_info(node) for node in X]"
   ]
  },
  {
   "cell_type": "markdown",
   "id": "970bfc03",
   "metadata": {},
   "source": [
    "## 1. Experiment: `n=3` completions"
   ]
  },
  {
   "cell_type": "code",
   "execution_count": 3,
   "id": "70471dfa",
   "metadata": {},
   "outputs": [
    {
     "name": "stderr",
     "output_type": "stream",
     "text": [
      "Fetching node tags using GPT-4: 100%|███████████████████████████| 500/500 [00:00<00:00, 4355.06it/s]"
     ]
    },
    {
     "name": "stdout",
     "output_type": "stream",
     "text": [
      "\n",
      "Tagger metrics:\n",
      "Counter({'Cache/get': 500, 'Cache/hits': 500})\n"
     ]
    },
    {
     "name": "stderr",
     "output_type": "stream",
     "text": [
      "\n"
     ]
    }
   ],
   "source": [
    "CHOICES = 3\n",
    "\n",
    "# Create a config for EFO nodes labelling\n",
    "config = TaskConfig(\n",
    "    name=\"precision\",\n",
    "    prompt_path=ROOT_DIR / \"prompts/precision_v1.txt\",\n",
    "    openai_model_name=\"gpt-4\",\n",
    "    node_attributes=[\"efo_id\", \"efo_label\", \"efo_definition\"],\n",
    "    model_n=CHOICES,\n",
    "    prompt_token_ratio=0.5,\n",
    "    allowed_labels=frozenset({\"low\", \"medium\", \"high\"}),\n",
    ")\n",
    "\n",
    "\n",
    "# Get their labels\n",
    "tagger = GptTagger.from_config(config)\n",
    "labeled_nodes = []\n",
    "for ln in tqdm(\n",
    "    tagger.fetch_labels(nodes),\n",
    "    total=len(X),\n",
    "    desc=\"Fetching node tags using GPT-4\",\n",
    "    ncols=100,\n",
    "):\n",
    "    labeled_nodes.append(ln)\n",
    "\n",
    "# Inspect metrics\n",
    "print(\"\\nTagger metrics:\")\n",
    "pprint(tagger.get_metrics())"
   ]
  },
  {
   "cell_type": "markdown",
   "id": "bd8cfa8e",
   "metadata": {},
   "source": [
    "### 1.1 MAE scores"
   ]
  },
  {
   "cell_type": "code",
   "execution_count": 4,
   "id": "69006e58",
   "metadata": {},
   "outputs": [
    {
     "name": "stdout",
     "output_type": "stream",
     "text": [
      "(Label counts as probas) BiasedMAE: 0.267\n"
     ]
    }
   ],
   "source": [
    "##\n",
    "# Map labeled nodes into probabilities\n",
    "\n",
    "y_probas: List[np.array] = []\n",
    "for node, ln in zip(nodes, labeled_nodes):\n",
    "    assert node.identifier == ln.node_efo_id, f\"{node.identifier} != {ln.node_efo_id}\"\n",
    "    w = np.zeros(len(CLASS_MAP), dtype=np.float32)\n",
    "    for label in ln.labels:\n",
    "        try:\n",
    "            w[CLASS_MAP[label.lower()]] += 1.0 / CHOICES\n",
    "        except KeyError as e:\n",
    "            print(f\"Wrong key: {label} (for node: {node.identifier=}; {ln.labels=})\")\n",
    "            raise e\n",
    "    y_probas.append(w)\n",
    "\n",
    "# Biased MAE\n",
    "y_true = np.array([one_h_enc[l] for l in y])\n",
    "print(\n",
    "    f\"(Label counts as probas) BiasedMAE: {mean_absolute_error(y_true, np.array(y_probas)):.3f}\"\n",
    ")"
   ]
  },
  {
   "cell_type": "code",
   "execution_count": 5,
   "id": "b517608e",
   "metadata": {},
   "outputs": [
    {
     "name": "stdout",
     "output_type": "stream",
     "text": [
      "(Most common label) BiasedMAE: 0.261\n"
     ]
    }
   ],
   "source": [
    "##\n",
    "# Find most common label for each node\n",
    "\n",
    "y_probas: List[np.array] = []\n",
    "for node, ln in zip(nodes, labeled_nodes):\n",
    "    assert node.identifier == ln.node_efo_id, f\"{node.identifier} != {ln.node_efo_id}\"\n",
    "    w = np.zeros(len(CLASS_MAP), dtype=np.float32)\n",
    "    c = Counter(ln.labels)\n",
    "    w[CLASS_MAP[c.most_common(1)[0][0].lower()]] = 1.0\n",
    "    y_probas.append(w)\n",
    "\n",
    "# Biased MAE\n",
    "y_true = np.array([one_h_enc[l] for l in y])\n",
    "print(\n",
    "    f\"(Most common label) BiasedMAE: {mean_absolute_error(y_true, np.array(y_probas)):.3f}\"\n",
    ")"
   ]
  },
  {
   "cell_type": "markdown",
   "id": "41561ae6",
   "metadata": {},
   "source": [
    "### 1.2 Labels analysis"
   ]
  },
  {
   "cell_type": "code",
   "execution_count": 6,
   "id": "68208a87",
   "metadata": {},
   "outputs": [
    {
     "name": "stdout",
     "output_type": "stream",
     "text": [
      "GPT-4 labels proportion:\n",
      "\thigh=0.47, medium=0.36, low=0.17\n",
      "Samples (true) labels proportion:\n",
      "\t01-disease-subtype=0.51, 02-disease-root=0.38, 03-disease-area=0.11\n"
     ]
    }
   ],
   "source": [
    "##\n",
    "# Metrics on tags\n",
    "import json\n",
    "\n",
    "labels_cnt = Counter()\n",
    "for key, val in tagger._cache._storage:\n",
    "    labels = json.loads(val)\n",
    "    assert len(labels) == 3\n",
    "    labels_cnt.update(labels)\n",
    "\n",
    "print(\n",
    "    f\"GPT-4 labels proportion:\\n\\t{', '.join(f'{k}={v/N_SAMPLES/3:.2f}' for k, v in labels_cnt.most_common())}\"\n",
    ")\n",
    "print(\n",
    "    f\"Samples (true) labels proportion:\\n\\t{', '.join(f'{k}={v/N_SAMPLES:.2f}' for k, v in Counter(y).most_common())}\"\n",
    ")"
   ]
  },
  {
   "cell_type": "code",
   "execution_count": 7,
   "id": "b9e32938",
   "metadata": {},
   "outputs": [
    {
     "name": "stdout",
     "output_type": "stream",
     "text": [
      "              precision    recall  f1-score   support\n",
      "\n",
      "           0       0.65      0.61      0.63       256\n",
      "           1       0.44      0.41      0.42       191\n",
      "           2       0.44      0.68      0.53        53\n",
      "\n",
      "   micro avg       0.54      0.54      0.54       500\n",
      "   macro avg       0.51      0.57      0.53       500\n",
      "weighted avg       0.55      0.54      0.54       500\n",
      " samples avg       0.54      0.54      0.54       500\n",
      "\n"
     ]
    }
   ],
   "source": [
    "##\n",
    "# Classification metrics\n",
    "\n",
    "from sklearn.metrics import classification_report\n",
    "\n",
    "print(classification_report(y_true, np.array(y_probas)))"
   ]
  },
  {
   "cell_type": "markdown",
   "id": "2e6ce7b6",
   "metadata": {},
   "source": [
    "### 1.3 Misclassified samples"
   ]
  },
  {
   "cell_type": "code",
   "execution_count": 8,
   "id": "fb6f2c59",
   "metadata": {},
   "outputs": [
    {
     "name": "stdout",
     "output_type": "stream",
     "text": [
      "Distance distribution:\n",
      "{0: 175, 1: 90, 2: 91, 3: 104, 4: 24, 5: 9, 6: 7}\n"
     ]
    }
   ],
   "source": [
    "nodes_dist = []\n",
    "for (node, ln), true_y in zip(zip(nodes, labeled_nodes), y):\n",
    "    nodes_dist.append(\n",
    "        NodeDist(\n",
    "            efo_id=node.identifier,\n",
    "            true_label=true_y,\n",
    "            precisions=ln.labels,\n",
    "            efo_label=node.data[\"efo_label\"],\n",
    "            efo_definition=node.data[\"efo_definition\"],\n",
    "            dist=sum(dists[true_y][l.lower()] for l in ln.labels),\n",
    "        )\n",
    "    )\n",
    "\n",
    "print(\"Distance distribution:\")\n",
    "pprint(dict(sorted(Counter(nd.dist for nd in nodes_dist).items())))"
   ]
  },
  {
   "cell_type": "code",
   "execution_count": 9,
   "id": "f4804693",
   "metadata": {},
   "outputs": [
    {
     "name": "stdout",
     "output_type": "stream",
     "text": [
      "Top 5 nodes ordered by decresing distance from true label:\n",
      "[{'dist': 6,\n",
      "  'efo_definition': 'An inflammation of both larynx and trachea.',\n",
      "  'efo_id': 'MONDO:0000263',\n",
      "  'efo_label': 'laryngotracheitis',\n",
      "  'precisions': ['low', 'low', 'low'],\n",
      "  'true_label': '01-disease-subtype'},\n",
      " {'dist': 6,\n",
      "  'efo_definition': 'A viral infectious disease that results_in infection in '\n",
      "                    'sheep and rarely humans, has_material_basis_in Louping '\n",
      "                    'ill virus, which is transmitted_by sheep tick, Ixodes '\n",
      "                    'ricinus. The infection has_symptom lethargy, has_symptom '\n",
      "                    'muscle pains, has_symptom fever, and has_symptom focal '\n",
      "                    'neurological signs.',\n",
      "  'efo_id': 'EFO:0007348',\n",
      "  'efo_label': 'louping ill',\n",
      "  'precisions': ['low', 'low', 'low'],\n",
      "  'true_label': '01-disease-subtype'},\n",
      " {'dist': 6,\n",
      "  'efo_definition': 'An abnormally high level of uric acid.',\n",
      "  'efo_id': 'EFO:0009104',\n",
      "  'efo_label': 'hyperuricemia',\n",
      "  'precisions': ['low', 'low', 'low'],\n",
      "  'true_label': '01-disease-subtype'},\n",
      " {'dist': 6,\n",
      "  'efo_definition': 'A clinical syndrome that is usually caused by enterovirus '\n",
      "                    'infection, and that is characterized by fever, anorexia, '\n",
      "                    'and painful sores in the mouth, distal extremities, '\n",
      "                    'and/or other sites, including the buttocks.',\n",
      "  'efo_id': 'EFO:0007294',\n",
      "  'efo_label': 'hand, foot and mouth disease',\n",
      "  'precisions': ['low', 'low', 'low'],\n",
      "  'true_label': '01-disease-subtype'},\n",
      " {'dist': 6,\n",
      "  'efo_definition': None,\n",
      "  'efo_id': 'MONDO:0017559',\n",
      "  'efo_label': 'congenital elbow dislocation, bilateral',\n",
      "  'precisions': ['low', 'low', 'low'],\n",
      "  'true_label': '01-disease-subtype'}]\n",
      "For a list of 25 nodes, see gist below\n"
     ]
    }
   ],
   "source": [
    "N = 5\n",
    "print(f\"Top {N} nodes ordered by decresing distance from true label:\")\n",
    "pprint([asdict(n) for n in sorted(nodes_dist, reverse=True)][:N])\n",
    "print(\"For a list of 25 nodes, see gist below\")"
   ]
  },
  {
   "cell_type": "markdown",
   "id": "fd87728b",
   "metadata": {},
   "source": [
    "Notes:\n",
    "* **⇒** The list of \"Top 25 nodes tagged by GPT-4 ordered by decreasing distance from true label\" can be found in [**this gist**](https://gist.github.com/yonromai/f598c1ab39f4c7d42553212231a515f8)\n",
    "* Most high distance from true label nodes are of class `01-disease-subtype`\n",
    "* Lots of mislassified nodes are missing `efo_definition`"
   ]
  },
  {
   "cell_type": "markdown",
   "id": "6c09f602",
   "metadata": {},
   "source": [
    "## 2. Experiment: `n=4` completions"
   ]
  },
  {
   "cell_type": "code",
   "execution_count": 10,
   "id": "5b30b549",
   "metadata": {},
   "outputs": [
    {
     "name": "stderr",
     "output_type": "stream",
     "text": [
      "Fetching node tags using GPT-4: 100%|███████████████████████████| 500/500 [00:00<00:00, 4591.45it/s]"
     ]
    },
    {
     "name": "stdout",
     "output_type": "stream",
     "text": [
      "\n",
      "Tagger metrics:\n",
      "Counter({'Cache/get': 500, 'Cache/hits': 500})\n"
     ]
    },
    {
     "name": "stderr",
     "output_type": "stream",
     "text": [
      "\n"
     ]
    }
   ],
   "source": [
    "CHOICES_4 = 4\n",
    "\n",
    "# Create a config for EFO nodes labelling\n",
    "config = TaskConfig(\n",
    "    name=\"precision\",\n",
    "    prompt_path=ROOT_DIR / \"prompts/precision_v1.txt\",\n",
    "    openai_model_name=\"gpt-4\",\n",
    "    node_attributes=[\"efo_id\", \"efo_label\", \"efo_definition\"],\n",
    "    model_n=CHOICES_4,\n",
    "    prompt_token_ratio=0.5,\n",
    "    allowed_labels=frozenset({\"low\", \"medium\", \"high\"}),\n",
    ")\n",
    "\n",
    "# Get their labels\n",
    "tagger = GptTagger.from_config(config)\n",
    "labeled_nodes = []\n",
    "for ln in tqdm(\n",
    "    tagger.fetch_labels(nodes),\n",
    "    total=len(X),\n",
    "    desc=\"Fetching node tags using GPT-4\",\n",
    "    ncols=100,\n",
    "):\n",
    "    labeled_nodes.append(ln)\n",
    "\n",
    "# Inspect metrics\n",
    "print(\"\\nTagger metrics:\")\n",
    "pprint(tagger.get_metrics())"
   ]
  },
  {
   "cell_type": "markdown",
   "id": "0cbdaccb",
   "metadata": {},
   "source": [
    "Notes:\n",
    "* Sanity check: this request costed $~2.5 (pre-caching..)\n",
    "* TODO: Persist the tagger metrics on disk across invokations"
   ]
  },
  {
   "cell_type": "markdown",
   "id": "d885b304",
   "metadata": {},
   "source": [
    "### 2.1 Request / Response samples\n",
    "For debugging purposes, I peaked at the payloads to and from the GPT API, here are a couple of samples:\n",
    "* Sample 1:\n",
    "    * Request:\n",
    "        * [Json payload](https://gist.github.com/yonromai/b3f9475425a84f7d500457c4f49ff474)\n",
    "        * [Prompt](https://gist.github.com/yonromai/65202b1fb90b3a18f4fd2fb981692121)  (parsed from json request)\n",
    "    * Response:\n",
    "        * [Json payload](https://gist.github.com/yonromai/6bec0c6744e840b57b7bda214e88c6e1)\n",
    "        * Completions: [#0](https://gist.github.com/yonromai/055b1d1b18848d4ecfbbe27136253390), [#1](https://gist.github.com/yonromai/9c473e4113c017158905f25fbc474a36), [#2](https://gist.github.com/yonromai/1019910cb1d938c17848035b87633e2f) & [#3](https://gist.github.com/yonromai/f4606678efbb504c1636cd5f69eb3ab6) (parsed from json response)\n",
    "* Sample 2:\n",
    "    * Request:\n",
    "        * [Json payload](https://gist.github.com/yonromai/e4a5b09c65918fc9ad44011c65eb567a)\n",
    "        * [Prompt](https://gist.github.com/yonromai/6e997d203a8e213df011d48c54349907)  (parsed from json request)\n",
    "    * Response:\n",
    "        * [Json payload](https://gist.github.com/yonromai/306022a79b8c791bd02bbcab9068d6dd)\n",
    "        * Completions: [#0](https://gist.github.com/yonromai/1249b944273b4aec351e3e7c828c9441), [#1](https://gist.github.com/yonromai/decf5e3f1d0d6d94e1f76016f05f7d4f), [#2](https://gist.github.com/yonromai/56027326e01856fdfa6117ab82dfd9c3) & [#3](https://gist.github.com/yonromai/fce39cdb3b0f5b4cb4636b554ae7baab) (parsed from json response)"
   ]
  },
  {
   "cell_type": "markdown",
   "id": "e962c18d",
   "metadata": {},
   "source": [
    "### 2.2 MAE scores"
   ]
  },
  {
   "cell_type": "code",
   "execution_count": 11,
   "id": "10fdc44d",
   "metadata": {},
   "outputs": [
    {
     "name": "stdout",
     "output_type": "stream",
     "text": [
      "(Label counts as probas) BiasedMAE: 0.261\n"
     ]
    }
   ],
   "source": [
    "##\n",
    "# Map labeled nodes into probabilities\n",
    "\n",
    "y_probas: List[np.array] = []\n",
    "for node, ln in zip(nodes, labeled_nodes):\n",
    "    assert node.identifier == ln.node_efo_id, f\"{node.identifier} != {ln.node_efo_id}\"\n",
    "    w = np.zeros(len(CLASS_MAP), dtype=np.float32)\n",
    "    for label in ln.labels:\n",
    "        try:\n",
    "            w[CLASS_MAP[label.lower()]] += 1.0 / CHOICES_4\n",
    "        except KeyError as e:\n",
    "            print(f\"Wrong key: {label} (for node: {node.identifier=}; {ln.labels=})\")\n",
    "            raise e\n",
    "    y_probas.append(w)\n",
    "\n",
    "# Biased MAE\n",
    "y_true = np.array([one_h_enc[l] for l in y])\n",
    "print(\n",
    "    f\"(Label counts as probas) BiasedMAE: {mean_absolute_error(y_true, np.array(y_probas)):.3f}\"\n",
    ")"
   ]
  },
  {
   "cell_type": "markdown",
   "id": "0fab13b1",
   "metadata": {},
   "source": [
    "### 2.3 Misclassified samples"
   ]
  },
  {
   "cell_type": "code",
   "execution_count": 12,
   "id": "5229460e",
   "metadata": {},
   "outputs": [
    {
     "name": "stdout",
     "output_type": "stream",
     "text": [
      "Distance distribution:\n",
      "{0: 150, 1: 93, 2: 67, 3: 60, 4: 97, 5: 13, 6: 12, 7: 4, 8: 4}\n"
     ]
    }
   ],
   "source": [
    "nodes_dist = []\n",
    "for (node, ln), true_y in zip(zip(nodes, labeled_nodes), y):\n",
    "    nodes_dist.append(\n",
    "        NodeDist(\n",
    "            efo_id=node.identifier,\n",
    "            true_label=true_y,\n",
    "            precisions=ln.labels,\n",
    "            efo_label=node.data[\"efo_label\"],\n",
    "            efo_definition=node.data[\"efo_definition\"],\n",
    "            dist=sum(dists[true_y][l.lower()] for l in ln.labels),\n",
    "        )\n",
    "    )\n",
    "\n",
    "print(\"Distance distribution:\")\n",
    "pprint(dict(sorted(Counter(nd.dist for nd in nodes_dist).items())))"
   ]
  },
  {
   "cell_type": "code",
   "execution_count": 13,
   "id": "d27d4df8",
   "metadata": {},
   "outputs": [
    {
     "name": "stdout",
     "output_type": "stream",
     "text": [
      "Top 5 nodes ordered by decresing distance from true label:\n",
      "[{'dist': 8,\n",
      "  'efo_definition': 'Spasm of the large- or medium-sized coronary arteries.',\n",
      "  'efo_id': 'EFO:0004225',\n",
      "  'efo_label': 'Coronary Vasospasm',\n",
      "  'precisions': ['low', 'low', 'low', 'low'],\n",
      "  'true_label': '01-disease-subtype'},\n",
      " {'dist': 8,\n",
      "  'efo_definition': 'An abnormally high level of uric acid.',\n",
      "  'efo_id': 'EFO:0009104',\n",
      "  'efo_label': 'hyperuricemia',\n",
      "  'precisions': ['low', 'low', 'low', 'low'],\n",
      "  'true_label': '01-disease-subtype'},\n",
      " {'dist': 8,\n",
      "  'efo_definition': 'A dysentery that involves protozoan infection.',\n",
      "  'efo_id': 'MONDO:0001955',\n",
      "  'efo_label': 'protozoal dysentery',\n",
      "  'precisions': ['low', 'low', 'low', 'low'],\n",
      "  'true_label': '01-disease-subtype'},\n",
      " {'dist': 8,\n",
      "  'efo_definition': 'A epilepsy syndrome that occurs during childhood.',\n",
      "  'efo_id': 'MONDO:0020072',\n",
      "  'efo_label': 'childhood-onset epilepsy syndrome',\n",
      "  'precisions': ['low', 'low', 'low', 'low'],\n",
      "  'true_label': '01-disease-subtype'},\n",
      " {'dist': 7,\n",
      "  'efo_definition': 'A viral infectious disease that results_in infection in '\n",
      "                    'sheep and rarely humans, has_material_basis_in Louping '\n",
      "                    'ill virus, which is transmitted_by sheep tick, Ixodes '\n",
      "                    'ricinus. The infection has_symptom lethargy, has_symptom '\n",
      "                    'muscle pains, has_symptom fever, and has_symptom focal '\n",
      "                    'neurological signs.',\n",
      "  'efo_id': 'EFO:0007348',\n",
      "  'efo_label': 'louping ill',\n",
      "  'precisions': ['low', 'low', 'low', 'medium'],\n",
      "  'true_label': '01-disease-subtype'}]\n"
     ]
    }
   ],
   "source": [
    "N = 5\n",
    "print(f\"Top {N} nodes ordered by decresing distance from true label:\")\n",
    "pprint([asdict(n) for n in sorted(nodes_dist, reverse=True)][:N])"
   ]
  },
  {
   "cell_type": "markdown",
   "id": "ec90b76c",
   "metadata": {},
   "source": [
    "## 3. Experiment: and`n=2` completions"
   ]
  },
  {
   "cell_type": "code",
   "execution_count": 14,
   "id": "9a2c2c9c",
   "metadata": {},
   "outputs": [
    {
     "name": "stderr",
     "output_type": "stream",
     "text": [
      "Fetching node tags using GPT-4: 100%|███████████████████████████| 500/500 [00:00<00:00, 3173.37it/s]"
     ]
    },
    {
     "name": "stdout",
     "output_type": "stream",
     "text": [
      "\n",
      "Tagger metrics:\n",
      "Counter({'Cache/get': 500, 'Cache/hits': 500})\n"
     ]
    },
    {
     "name": "stderr",
     "output_type": "stream",
     "text": [
      "\n"
     ]
    }
   ],
   "source": [
    "CHOICES_2 = 2\n",
    "\n",
    "# Create a config for EFO nodes labelling\n",
    "config = TaskConfig(\n",
    "    name=\"precision\",\n",
    "    prompt_path=ROOT_DIR / \"prompts/precision_v1.txt\",\n",
    "    openai_model_name=\"gpt-4\",\n",
    "    node_attributes=[\"efo_id\", \"efo_label\", \"efo_definition\"],\n",
    "    model_n=CHOICES_2,\n",
    "    prompt_token_ratio=0.5,\n",
    "    allowed_labels=frozenset({\"low\", \"medium\", \"high\"}),\n",
    ")\n",
    "\n",
    "# Get their labels\n",
    "tagger = GptTagger.from_config(config)\n",
    "labeled_nodes = []\n",
    "for ln in tqdm(\n",
    "    tagger.fetch_labels(nodes),\n",
    "    total=len(X),\n",
    "    desc=\"Fetching node tags using GPT-4\",\n",
    "    ncols=100,\n",
    "):\n",
    "    labeled_nodes.append(ln)\n",
    "\n",
    "# Inspect metrics\n",
    "print(\"\\nTagger metrics:\")\n",
    "pprint(tagger.get_metrics())"
   ]
  },
  {
   "cell_type": "markdown",
   "id": "d326937c",
   "metadata": {},
   "source": [
    "### 3.1 MAE scores"
   ]
  },
  {
   "cell_type": "code",
   "execution_count": 15,
   "id": "3469d7be",
   "metadata": {},
   "outputs": [
    {
     "name": "stdout",
     "output_type": "stream",
     "text": [
      "(Label counts as probas) BiasedMAE: 0.270\n"
     ]
    }
   ],
   "source": [
    "##\n",
    "# Map labeled nodes into probabilities\n",
    "\n",
    "y_probas: List[np.array] = []\n",
    "for node, ln in zip(nodes, labeled_nodes):\n",
    "    assert node.identifier == ln.node_efo_id, f\"{node.identifier} != {ln.node_efo_id}\"\n",
    "    w = np.zeros(len(CLASS_MAP), dtype=np.float32)\n",
    "    for label in ln.labels:\n",
    "        try:\n",
    "            w[CLASS_MAP[label.lower()]] += 1.0 / CHOICES_2\n",
    "        except KeyError as e:\n",
    "            print(f\"Wrong key: {label} (for node: {node.identifier=}; {ln.labels=})\")\n",
    "            raise e\n",
    "    y_probas.append(w)\n",
    "\n",
    "# Biased MAE\n",
    "y_true = np.array([one_h_enc[l] for l in y])\n",
    "print(\n",
    "    f\"(Label counts as probas) BiasedMAE: {mean_absolute_error(y_true, np.array(y_probas)):.3f}\"\n",
    ")"
   ]
  },
  {
   "cell_type": "markdown",
   "id": "a3229cee",
   "metadata": {},
   "source": [
    "## 4. Experiment: \"Rav CoT prompt\""
   ]
  },
  {
   "cell_type": "code",
   "execution_count": 16,
   "id": "4495890a",
   "metadata": {
    "scrolled": true
   },
   "outputs": [
    {
     "name": "stderr",
     "output_type": "stream",
     "text": [
      "Fetching node tags using GPT-4: 100%|███████████████████████████| 500/500 [00:00<00:00, 4623.18it/s]"
     ]
    },
    {
     "name": "stdout",
     "output_type": "stream",
     "text": [
      "\n",
      "Tagger metrics:\n",
      "Counter({'Cache/get': 500, 'Cache/hits': 500})\n"
     ]
    },
    {
     "name": "stderr",
     "output_type": "stream",
     "text": [
      "\n"
     ]
    }
   ],
   "source": [
    "cot_config = TaskConfig(\n",
    "    name=\"cot_precision\",\n",
    "    prompt_path=ROOT_DIR / \"prompts/rav_cot_precision_v1.txt\",\n",
    "    openai_model_name=\"gpt-4\",\n",
    "    node_attributes=[\"efo_id\", \"efo_label\", \"efo_definition\"],\n",
    "    model_n=2,\n",
    "    prompt_token_ratio=0.5,\n",
    "    end_of_cot_marker=\"<END_OF_COT>\",\n",
    "    allowed_labels=frozenset({\"low\", \"medium\", \"high\"}),\n",
    ")\n",
    "\n",
    "# Get their labels\n",
    "tagger = GptTagger.from_config(cot_config)\n",
    "labeled_nodes = []\n",
    "for ln in tqdm(\n",
    "    tagger.fetch_labels(nodes),\n",
    "    total=len(X),\n",
    "    desc=\"Fetching node tags using GPT-4\",\n",
    "    ncols=100,\n",
    "):\n",
    "    labeled_nodes.append(ln)\n",
    "\n",
    "# Inspect metrics\n",
    "print(\"\\nTagger metrics:\")\n",
    "pprint(tagger.get_metrics())"
   ]
  },
  {
   "cell_type": "markdown",
   "id": "6c8d4cf8",
   "metadata": {},
   "source": [
    "Example of [prompt](https://gist.github.com/yonromai/c637c1dabea0f66bae849acbb3a77053) and response choices ([#1](https://gist.github.com/yonromai/597dfce428c8fdd98350cc19abdbd79f), [#2](https://gist.github.com/yonromai/7ac91e6543df6d69ab9de264e481b75c))"
   ]
  },
  {
   "cell_type": "markdown",
   "id": "3a32066a",
   "metadata": {},
   "source": [
    "### 4.1 MAE scores"
   ]
  },
  {
   "cell_type": "code",
   "execution_count": 17,
   "id": "a0715d47",
   "metadata": {},
   "outputs": [
    {
     "name": "stdout",
     "output_type": "stream",
     "text": [
      "(Label counts as probas) BiasedMAE: 0.275\n"
     ]
    }
   ],
   "source": [
    "##\n",
    "# Map labeled nodes into probabilities\n",
    "\n",
    "y_probas: List[np.array] = []\n",
    "for node, ln in zip(nodes, labeled_nodes):\n",
    "    assert node.identifier == ln.node_efo_id, f\"{node.identifier} != {ln.node_efo_id}\"\n",
    "    w = np.zeros(len(CLASS_MAP), dtype=np.float32)\n",
    "    for label in ln.labels:\n",
    "        try:\n",
    "            w[CLASS_MAP[label.lower()]] += 1.0 / CHOICES_2\n",
    "        except KeyError as e:\n",
    "            print(f\"Wrong key: {label} (for node: {node.identifier=}; {ln.labels=})\")\n",
    "            raise e\n",
    "    y_probas.append(w)\n",
    "\n",
    "# Biased MAE\n",
    "y_true = np.array([one_h_enc[l] for l in y])\n",
    "print(\n",
    "    f\"(Label counts as probas) BiasedMAE: {mean_absolute_error(y_true, np.array(y_probas)):.3f}\"\n",
    ")"
   ]
  },
  {
   "cell_type": "markdown",
   "id": "949df21c",
   "metadata": {},
   "source": [
    "## 5. Experiment: \"Precision prompt v2\" (with extra few-shot examples)"
   ]
  },
  {
   "cell_type": "code",
   "execution_count": 18,
   "id": "4ec044a1",
   "metadata": {},
   "outputs": [
    {
     "name": "stderr",
     "output_type": "stream",
     "text": [
      "Fetching node tags using GPT-4: 100%|███████████████████████████| 500/500 [00:00<00:00, 4695.81it/s]"
     ]
    },
    {
     "name": "stdout",
     "output_type": "stream",
     "text": [
      "\n",
      "Tagger metrics:\n",
      "Counter({'Cache/get': 500, 'Cache/hits': 500})\n"
     ]
    },
    {
     "name": "stderr",
     "output_type": "stream",
     "text": [
      "\n"
     ]
    }
   ],
   "source": [
    "CHOICES = 3\n",
    "\n",
    "# Create a config for EFO nodes labelling\n",
    "config = TaskConfig(\n",
    "    name=\"precision\",\n",
    "    prompt_version=\"v2\",\n",
    "    prompt_path=ROOT_DIR / \"prompts/precision_v2.txt\",\n",
    "    openai_model_name=\"gpt-4\",\n",
    "    node_attributes=[\"efo_id\", \"efo_label\", \"efo_definition\"],\n",
    "    model_n=CHOICES,\n",
    "    prompt_token_ratio=0.5,\n",
    "    allowed_labels=frozenset({\"low\", \"medium\", \"high\"}),\n",
    ")\n",
    "\n",
    "\n",
    "# Get their labels\n",
    "tagger = GptTagger.from_config(config)\n",
    "labeled_nodes = []\n",
    "for ln in tqdm(\n",
    "    tagger.fetch_labels(nodes),\n",
    "    total=len(X),\n",
    "    desc=\"Fetching node tags using GPT-4\",\n",
    "    ncols=100,\n",
    "):\n",
    "    labeled_nodes.append(ln)\n",
    "\n",
    "# Inspect metrics\n",
    "print(\"\\nTagger metrics:\")\n",
    "pprint(tagger.get_metrics())"
   ]
  },
  {
   "cell_type": "markdown",
   "id": "2755c2f6",
   "metadata": {},
   "source": [
    "### 5.1 Request / Response samples\n",
    "For debugging purposes, I peaked at the payloads to and from the GPT API, here are a couple of samples:\n",
    "* Sample 1:\n",
    "    * Request:\n",
    "        * [Prompt](https://gist.github.com/yonromai/8799f47c3911e8f7ea51aefdfc5cf27d)  (parsed from json request)\n",
    "    * Response:\n",
    "        * Completions: [#0](https://gist.github.com/yonromai/b53c0c5c5c64ee0376d3564a1e1cadda), [#1](https://gist.github.com/yonromai/c923eb74b8a4a70ff66103b90d06f15c) & [#2](https://gist.github.com/yonromai/a007cdaa0fd6971f596567a0569224ee) (parsed from json response)\n",
    "* Sample 2:\n",
    "    * Request:\n",
    "        * [Prompt](https://gist.github.com/yonromai/daa0bd3c8e9f81250a68c3f6b614598d)  (parsed from json request)\n",
    "    * Response:\n",
    "        * Completions: [#0](https://gist.github.com/yonromai/68e74c7a8032d9f59e427f6196652d91), [#1](https://gist.github.com/yonromai/f2b852e20f42bfea2da13b3e755267fe) & [#2](https://gist.github.com/yonromai/66ff9de3141cb4dcd35cd11cd06c936e) (parsed from json response)"
   ]
  },
  {
   "cell_type": "markdown",
   "id": "3f250bf5",
   "metadata": {},
   "source": [
    "### 5.2 MAE scores"
   ]
  },
  {
   "cell_type": "code",
   "execution_count": 19,
   "id": "4e15c0bb",
   "metadata": {},
   "outputs": [
    {
     "name": "stdout",
     "output_type": "stream",
     "text": [
      "(Label counts as probas) BiasedMAE: 0.268\n"
     ]
    }
   ],
   "source": [
    "##\n",
    "# Map labeled nodes into probabilities\n",
    "\n",
    "y_probas: List[np.array] = []\n",
    "for node, ln in zip(nodes, labeled_nodes):\n",
    "    assert node.identifier == ln.node_efo_id, f\"{node.identifier} != {ln.node_efo_id}\"\n",
    "    w = np.zeros(len(CLASS_MAP), dtype=np.float32)\n",
    "    for label in ln.labels:\n",
    "        try:\n",
    "            w[CLASS_MAP[label.lower()]] += 1.0 / CHOICES\n",
    "        except KeyError as e:\n",
    "            print(f\"Wrong key: {label} (for node: {node.identifier=}; {ln.labels=})\")\n",
    "            raise e\n",
    "    y_probas.append(w)\n",
    "\n",
    "# Biased MAE\n",
    "y_true = np.array([one_h_enc[l] for l in y])\n",
    "print(\n",
    "    f\"(Label counts as probas) BiasedMAE: {mean_absolute_error(y_true, np.array(y_probas)):.3f}\"\n",
    ")"
   ]
  },
  {
   "cell_type": "markdown",
   "id": "499e8436",
   "metadata": {},
   "source": [
    "### 5.3 Misclassified samples"
   ]
  },
  {
   "cell_type": "code",
   "execution_count": 20,
   "id": "75764b99",
   "metadata": {},
   "outputs": [
    {
     "name": "stdout",
     "output_type": "stream",
     "text": [
      "Distance distribution:\n",
      "{0: 174, 1: 90, 2: 93, 3: 113, 4: 16, 5: 6, 6: 8}\n"
     ]
    }
   ],
   "source": [
    "nodes_dist = []\n",
    "for (node, ln), true_y in zip(zip(nodes, labeled_nodes), y):\n",
    "    nodes_dist.append(\n",
    "        NodeDist(\n",
    "            efo_id=node.identifier,\n",
    "            true_label=true_y,\n",
    "            precisions=ln.labels,\n",
    "            efo_label=node.data[\"efo_label\"],\n",
    "            efo_definition=node.data[\"efo_definition\"],\n",
    "            dist=sum(dists[true_y][l.lower()] for l in ln.labels),\n",
    "        )\n",
    "    )\n",
    "\n",
    "print(\"Distance distribution:\")\n",
    "pprint(dict(sorted(Counter(nd.dist for nd in nodes_dist).items())))"
   ]
  },
  {
   "cell_type": "code",
   "execution_count": 21,
   "id": "5472cbec",
   "metadata": {},
   "outputs": [
    {
     "name": "stdout",
     "output_type": "stream",
     "text": [
      "Top 10 nodes ordered by decresing distance from true label:\n",
      "[{'dist': 6,\n",
      "  'efo_definition': 'Long-standing obesity without metbolic abnormalities or '\n",
      "                    'obesity-related comorbidities such as type 2 diabetes or '\n",
      "                    'heart disease',\n",
      "  'efo_id': 'EFO:0009382',\n",
      "  'efo_label': 'metabolically healthy obesity',\n",
      "  'precisions': ['low', 'low', 'low'],\n",
      "  'true_label': '01-disease-subtype'},\n",
      " {'dist': 6,\n",
      "  'efo_definition': 'An overwhelming, irrational, and persistent fear of being '\n",
      "                    'diagnosed with cancer.',\n",
      "  'efo_id': 'EFO:1001879',\n",
      "  'efo_label': 'cancerophobia',\n",
      "  'precisions': ['low', 'low', 'low'],\n",
      "  'true_label': '01-disease-subtype'},\n",
      " {'dist': 6,\n",
      "  'efo_definition': 'A viral infectious disease that results_in infection in '\n",
      "                    'sheep and rarely humans, has_material_basis_in Louping '\n",
      "                    'ill virus, which is transmitted_by sheep tick, Ixodes '\n",
      "                    'ricinus. The infection has_symptom lethargy, has_symptom '\n",
      "                    'muscle pains, has_symptom fever, and has_symptom focal '\n",
      "                    'neurological signs.',\n",
      "  'efo_id': 'EFO:0007348',\n",
      "  'efo_label': 'louping ill',\n",
      "  'precisions': ['low', 'low', 'low'],\n",
      "  'true_label': '01-disease-subtype'},\n",
      " {'dist': 6,\n",
      "  'efo_definition': 'A pregnancy induced hypertensive state that occurs after '\n",
      "                    '20 weeks of gestation characterized by an increase in '\n",
      "                    'blood pressure, along with body swelling and proteinuria.',\n",
      "  'efo_id': 'MONDO:0045048',\n",
      "  'efo_label': 'toxemia of pregnancy',\n",
      "  'precisions': ['low', 'low', 'low'],\n",
      "  'true_label': '01-disease-subtype'},\n",
      " {'dist': 6,\n",
      "  'efo_definition': None,\n",
      "  'efo_id': 'EFO:0006338',\n",
      "  'efo_label': 'pit and fissure surface dental caries',\n",
      "  'precisions': ['low', 'low', 'low'],\n",
      "  'true_label': '01-disease-subtype'},\n",
      " {'dist': 6,\n",
      "  'efo_definition': 'A clinical syndrome that is usually caused by enterovirus '\n",
      "                    'infection, and that is characterized by fever, anorexia, '\n",
      "                    'and painful sores in the mouth, distal extremities, '\n",
      "                    'and/or other sites, including the buttocks.',\n",
      "  'efo_id': 'EFO:0007294',\n",
      "  'efo_label': 'hand, foot and mouth disease',\n",
      "  'precisions': ['low', 'low', 'low'],\n",
      "  'true_label': '01-disease-subtype'},\n",
      " {'dist': 6,\n",
      "  'efo_definition': 'Toxicity that causes injury to the central or peripheral '\n",
      "                    'nervous system or damages its function. This can include '\n",
      "                    'stroke, multiple sclerosis, encephalopathy, dementia, '\n",
      "                    \"Alzheimer's disease, amnesia, dyskinesia, Parkinson's \"\n",
      "                    'disease, tremor, convulsions and Guillain Barre '\n",
      "                    'syndrome. ',\n",
      "  'efo_id': 'EFO:0011057',\n",
      "  'efo_label': 'neurotoxicity',\n",
      "  'precisions': ['low', 'low', 'low'],\n",
      "  'true_label': '01-disease-subtype'},\n",
      " {'dist': 6,\n",
      "  'efo_definition': None,\n",
      "  'efo_id': 'MONDO:0000949',\n",
      "  'efo_label': 'conjunctival degeneration',\n",
      "  'precisions': ['low', 'low', 'low'],\n",
      "  'true_label': '01-disease-subtype'},\n",
      " {'dist': 5,\n",
      "  'efo_definition': None,\n",
      "  'efo_id': 'Orphanet:73230',\n",
      "  'efo_label': 'Ossification anomalies - psychomotor development delay',\n",
      "  'precisions': ['low', 'low', 'medium'],\n",
      "  'true_label': '01-disease-subtype'},\n",
      " {'dist': 5,\n",
      "  'efo_definition': 'Delirium that occurs after surgery.',\n",
      "  'efo_id': 'EFO:0009954',\n",
      "  'efo_label': 'post-operative delirium',\n",
      "  'precisions': ['low', 'low', 'medium'],\n",
      "  'true_label': '01-disease-subtype'}]\n"
     ]
    }
   ],
   "source": [
    "N = 10\n",
    "print(f\"Top {N} nodes ordered by decresing distance from true label:\")\n",
    "pprint([asdict(n) for n in sorted(nodes_dist, reverse=True)][:N])"
   ]
  },
  {
   "cell_type": "code",
   "execution_count": null,
   "id": "bfa696ea",
   "metadata": {},
   "outputs": [],
   "source": []
  }
 ],
 "metadata": {
  "kernelspec": {
   "display_name": "Python 3 (ipykernel)",
   "language": "python",
   "name": "python3"
  },
  "language_info": {
   "codemirror_mode": {
    "name": "ipython",
    "version": 3
   },
   "file_extension": ".py",
   "mimetype": "text/x-python",
   "name": "python",
   "nbconvert_exporter": "python",
   "pygments_lexer": "ipython3",
   "version": "3.10.10"
  }
 },
 "nbformat": 4,
 "nbformat_minor": 5
}
